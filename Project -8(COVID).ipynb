{
 "cells": [
  {
   "cell_type": "code",
   "execution_count": 1,
   "metadata": {},
   "outputs": [],
   "source": [
    "import numpy as np\n",
    "import pandas as pd\n",
    "import sklearn\n",
    "import seaborn as sns\n",
    "import matplotlib.pyplot as plt\n",
    "from sklearn.linear_model import LinearRegression\n",
    "from sklearn.metrics import mean_squared_error,mean_absolute_error,r2_score\n",
    "from sklearn.model_selection import train_test_split"
   ]
  },
  {
   "cell_type": "code",
   "execution_count": 2,
   "metadata": {},
   "outputs": [],
   "source": [
    "df=pd.read_csv('covid.csv')"
   ]
  },
  {
   "cell_type": "code",
   "execution_count": 3,
   "metadata": {},
   "outputs": [
    {
     "data": {
      "text/html": [
       "<div>\n",
       "<style scoped>\n",
       "    .dataframe tbody tr th:only-of-type {\n",
       "        vertical-align: middle;\n",
       "    }\n",
       "\n",
       "    .dataframe tbody tr th {\n",
       "        vertical-align: top;\n",
       "    }\n",
       "\n",
       "    .dataframe thead th {\n",
       "        text-align: right;\n",
       "    }\n",
       "</style>\n",
       "<table border=\"1\" class=\"dataframe\">\n",
       "  <thead>\n",
       "    <tr style=\"text-align: right;\">\n",
       "      <th></th>\n",
       "      <th>Province_State</th>\n",
       "      <th>Country_Region</th>\n",
       "      <th>Last_Update</th>\n",
       "      <th>Lat</th>\n",
       "      <th>Long_</th>\n",
       "      <th>Confirmed</th>\n",
       "      <th>Deaths</th>\n",
       "      <th>Recovered</th>\n",
       "      <th>Active</th>\n",
       "      <th>FIPS</th>\n",
       "      <th>Incident_Rate</th>\n",
       "      <th>People_Tested</th>\n",
       "      <th>People_Hospitalized</th>\n",
       "      <th>Mortality_Rate</th>\n",
       "      <th>UID</th>\n",
       "      <th>ISO3</th>\n",
       "      <th>Testing_Rate</th>\n",
       "      <th>Hospitalization_Rate</th>\n",
       "    </tr>\n",
       "  </thead>\n",
       "  <tbody>\n",
       "    <tr>\n",
       "      <th>0</th>\n",
       "      <td>Alabama</td>\n",
       "      <td>US</td>\n",
       "      <td>2020-05-21 02:32:54</td>\n",
       "      <td>32.3182</td>\n",
       "      <td>-86.9023</td>\n",
       "      <td>13052</td>\n",
       "      <td>522</td>\n",
       "      <td>NaN</td>\n",
       "      <td>12530.0</td>\n",
       "      <td>1</td>\n",
       "      <td>266.194321</td>\n",
       "      <td>164450.0</td>\n",
       "      <td>1493.0</td>\n",
       "      <td>3.999387</td>\n",
       "      <td>84000001</td>\n",
       "      <td>USA</td>\n",
       "      <td>3353.942386</td>\n",
       "      <td>11.438860</td>\n",
       "    </tr>\n",
       "    <tr>\n",
       "      <th>1</th>\n",
       "      <td>Alaska</td>\n",
       "      <td>US</td>\n",
       "      <td>2020-05-21 02:32:54</td>\n",
       "      <td>61.3707</td>\n",
       "      <td>-152.4044</td>\n",
       "      <td>401</td>\n",
       "      <td>10</td>\n",
       "      <td>352.0</td>\n",
       "      <td>39.0</td>\n",
       "      <td>2</td>\n",
       "      <td>54.815493</td>\n",
       "      <td>37045.0</td>\n",
       "      <td>NaN</td>\n",
       "      <td>2.493766</td>\n",
       "      <td>84000002</td>\n",
       "      <td>USA</td>\n",
       "      <td>5063.940017</td>\n",
       "      <td>NaN</td>\n",
       "    </tr>\n",
       "    <tr>\n",
       "      <th>2</th>\n",
       "      <td>American Samoa</td>\n",
       "      <td>US</td>\n",
       "      <td>2020-05-21 02:32:54</td>\n",
       "      <td>-14.2710</td>\n",
       "      <td>-170.1320</td>\n",
       "      <td>0</td>\n",
       "      <td>0</td>\n",
       "      <td>NaN</td>\n",
       "      <td>0.0</td>\n",
       "      <td>60</td>\n",
       "      <td>0.000000</td>\n",
       "      <td>124.0</td>\n",
       "      <td>NaN</td>\n",
       "      <td>NaN</td>\n",
       "      <td>16</td>\n",
       "      <td>ASM</td>\n",
       "      <td>222.857246</td>\n",
       "      <td>NaN</td>\n",
       "    </tr>\n",
       "    <tr>\n",
       "      <th>3</th>\n",
       "      <td>Arizona</td>\n",
       "      <td>US</td>\n",
       "      <td>2020-05-21 02:32:54</td>\n",
       "      <td>33.7298</td>\n",
       "      <td>-111.4312</td>\n",
       "      <td>14906</td>\n",
       "      <td>747</td>\n",
       "      <td>3773.0</td>\n",
       "      <td>10386.0</td>\n",
       "      <td>4</td>\n",
       "      <td>204.788838</td>\n",
       "      <td>165435.0</td>\n",
       "      <td>1792.0</td>\n",
       "      <td>5.011405</td>\n",
       "      <td>84000004</td>\n",
       "      <td>USA</td>\n",
       "      <td>2272.859351</td>\n",
       "      <td>12.022005</td>\n",
       "    </tr>\n",
       "    <tr>\n",
       "      <th>4</th>\n",
       "      <td>Arkansas</td>\n",
       "      <td>US</td>\n",
       "      <td>2020-05-21 02:32:54</td>\n",
       "      <td>34.9697</td>\n",
       "      <td>-92.3731</td>\n",
       "      <td>5003</td>\n",
       "      <td>107</td>\n",
       "      <td>3852.0</td>\n",
       "      <td>1044.0</td>\n",
       "      <td>5</td>\n",
       "      <td>165.782801</td>\n",
       "      <td>96258.0</td>\n",
       "      <td>535.0</td>\n",
       "      <td>2.138717</td>\n",
       "      <td>84000005</td>\n",
       "      <td>USA</td>\n",
       "      <td>3189.670370</td>\n",
       "      <td>10.693584</td>\n",
       "    </tr>\n",
       "  </tbody>\n",
       "</table>\n",
       "</div>"
      ],
      "text/plain": [
       "   Province_State Country_Region          Last_Update      Lat     Long_  \\\n",
       "0         Alabama             US  2020-05-21 02:32:54  32.3182  -86.9023   \n",
       "1          Alaska             US  2020-05-21 02:32:54  61.3707 -152.4044   \n",
       "2  American Samoa             US  2020-05-21 02:32:54 -14.2710 -170.1320   \n",
       "3         Arizona             US  2020-05-21 02:32:54  33.7298 -111.4312   \n",
       "4        Arkansas             US  2020-05-21 02:32:54  34.9697  -92.3731   \n",
       "\n",
       "   Confirmed  Deaths  Recovered   Active  FIPS  Incident_Rate  People_Tested  \\\n",
       "0      13052     522        NaN  12530.0     1     266.194321       164450.0   \n",
       "1        401      10      352.0     39.0     2      54.815493        37045.0   \n",
       "2          0       0        NaN      0.0    60       0.000000          124.0   \n",
       "3      14906     747     3773.0  10386.0     4     204.788838       165435.0   \n",
       "4       5003     107     3852.0   1044.0     5     165.782801        96258.0   \n",
       "\n",
       "   People_Hospitalized  Mortality_Rate       UID ISO3  Testing_Rate  \\\n",
       "0               1493.0        3.999387  84000001  USA   3353.942386   \n",
       "1                  NaN        2.493766  84000002  USA   5063.940017   \n",
       "2                  NaN             NaN        16  ASM    222.857246   \n",
       "3               1792.0        5.011405  84000004  USA   2272.859351   \n",
       "4                535.0        2.138717  84000005  USA   3189.670370   \n",
       "\n",
       "   Hospitalization_Rate  \n",
       "0             11.438860  \n",
       "1                   NaN  \n",
       "2                   NaN  \n",
       "3             12.022005  \n",
       "4             10.693584  "
      ]
     },
     "execution_count": 3,
     "metadata": {},
     "output_type": "execute_result"
    }
   ],
   "source": [
    "df.head()"
   ]
  },
  {
   "cell_type": "code",
   "execution_count": 4,
   "metadata": {},
   "outputs": [
    {
     "data": {
      "text/plain": [
       "<BarContainer object of 58 artists>"
      ]
     },
     "execution_count": 4,
     "metadata": {},
     "output_type": "execute_result"
    },
    {
     "data": {
      "image/png": "[encoded data removed]",
      "text/plain": [
       "<Figure size 432x288 with 1 Axes>"
      ]
     },
     "metadata": {
      "needs_background": "light"
     },
     "output_type": "display_data"
    }
   ],
   "source": [
    "plt.xlabel('Province_State')\n",
    "plt.ylabel('Deaths')\n",
    "plt.bar(df['Province_State'],df['Deaths'])"
   ]
  },
  {
   "cell_type": "code",
   "execution_count": 5,
   "metadata": {},
   "outputs": [
    {
     "data": {
      "text/plain": [
       "<BarContainer object of 58 artists>"
      ]
     },
     "execution_count": 5,
     "metadata": {},
     "output_type": "execute_result"
    },
    {
     "data": {
      "image/png": "[encoded data removed]",
      "text/plain": [
       "<Figure size 1800x1080 with 1 Axes>"
      ]
     },
     "metadata": {
      "needs_background": "light"
     },
     "output_type": "display_data"
    }
   ],
   "source": [
    "plt.figure(figsize = (25, 15)) \n",
    "plt.xlabel('Deaths')\n",
    "plt.ylabel('Province_State')\n",
    "plt.barh(df['Province_State'],df['Deaths'])"
   ]
  },
  {
   "cell_type": "markdown",
   "metadata": {},
   "source": [
    "# -->Here we can see that highest no. of DEATHS are recorded in NEW YORK, then New Jersey and so on."
   ]
  },
  {
   "cell_type": "code",
   "execution_count": 6,
   "metadata": {},
   "outputs": [
    {
     "data": {
      "text/plain": [
       "[<matplotlib.lines.Line2D at 0x7c04983198>]"
      ]
     },
     "execution_count": 6,
     "metadata": {},
     "output_type": "execute_result"
    },
    {
     "data": {
      "image/png": "[encoded data removed]",
      "text/plain": [
       "<Figure size 432x288 with 1 Axes>"
      ]
     },
     "metadata": {
      "needs_background": "light"
     },
     "output_type": "display_data"
    }
   ],
   "source": [
    "plt.xlabel('Deaths')\n",
    "plt.ylabel(\"People_Tested\")\n",
    "plt.plot(df['Deaths'],df['People_Tested'],color = \"r\")"
   ]
  },
  {
   "cell_type": "markdown",
   "metadata": {},
   "source": [
    "# We can see that regions where no. of testing is more death rate is low except few states."
   ]
  },
  {
   "cell_type": "markdown",
   "metadata": {},
   "source": [
    "# We will remove column that are not required i.e, Country_Region,Last_Update,Lat,Long_"
   ]
  },
  {
   "cell_type": "code",
   "execution_count": 7,
   "metadata": {},
   "outputs": [],
   "source": [
    "df.drop(['Country_Region','Last_Update','Lat','Long_'],axis=1,inplace=True)"
   ]
  },
  {
   "cell_type": "code",
   "execution_count": 8,
   "metadata": {},
   "outputs": [
    {
     "data": {
      "text/html": [
       "<div>\n",
       "<style scoped>\n",
       "    .dataframe tbody tr th:only-of-type {\n",
       "        vertical-align: middle;\n",
       "    }\n",
       "\n",
       "    .dataframe tbody tr th {\n",
       "        vertical-align: top;\n",
       "    }\n",
       "\n",
       "    .dataframe thead th {\n",
       "        text-align: right;\n",
       "    }\n",
       "</style>\n",
       "<table border=\"1\" class=\"dataframe\">\n",
       "  <thead>\n",
       "    <tr style=\"text-align: right;\">\n",
       "      <th></th>\n",
       "      <th>Province_State</th>\n",
       "      <th>Confirmed</th>\n",
       "      <th>Deaths</th>\n",
       "      <th>Recovered</th>\n",
       "      <th>Active</th>\n",
       "      <th>FIPS</th>\n",
       "      <th>Incident_Rate</th>\n",
       "      <th>People_Tested</th>\n",
       "      <th>People_Hospitalized</th>\n",
       "      <th>Mortality_Rate</th>\n",
       "      <th>UID</th>\n",
       "      <th>ISO3</th>\n",
       "      <th>Testing_Rate</th>\n",
       "      <th>Hospitalization_Rate</th>\n",
       "    </tr>\n",
       "  </thead>\n",
       "  <tbody>\n",
       "    <tr>\n",
       "      <th>0</th>\n",
       "      <td>Alabama</td>\n",
       "      <td>13052</td>\n",
       "      <td>522</td>\n",
       "      <td>NaN</td>\n",
       "      <td>12530.0</td>\n",
       "      <td>1</td>\n",
       "      <td>266.194321</td>\n",
       "      <td>164450.0</td>\n",
       "      <td>1493.0</td>\n",
       "      <td>3.999387</td>\n",
       "      <td>84000001</td>\n",
       "      <td>USA</td>\n",
       "      <td>3353.942386</td>\n",
       "      <td>11.438860</td>\n",
       "    </tr>\n",
       "    <tr>\n",
       "      <th>1</th>\n",
       "      <td>Alaska</td>\n",
       "      <td>401</td>\n",
       "      <td>10</td>\n",
       "      <td>352.0</td>\n",
       "      <td>39.0</td>\n",
       "      <td>2</td>\n",
       "      <td>54.815493</td>\n",
       "      <td>37045.0</td>\n",
       "      <td>NaN</td>\n",
       "      <td>2.493766</td>\n",
       "      <td>84000002</td>\n",
       "      <td>USA</td>\n",
       "      <td>5063.940017</td>\n",
       "      <td>NaN</td>\n",
       "    </tr>\n",
       "    <tr>\n",
       "      <th>2</th>\n",
       "      <td>American Samoa</td>\n",
       "      <td>0</td>\n",
       "      <td>0</td>\n",
       "      <td>NaN</td>\n",
       "      <td>0.0</td>\n",
       "      <td>60</td>\n",
       "      <td>0.000000</td>\n",
       "      <td>124.0</td>\n",
       "      <td>NaN</td>\n",
       "      <td>NaN</td>\n",
       "      <td>16</td>\n",
       "      <td>ASM</td>\n",
       "      <td>222.857246</td>\n",
       "      <td>NaN</td>\n",
       "    </tr>\n",
       "    <tr>\n",
       "      <th>3</th>\n",
       "      <td>Arizona</td>\n",
       "      <td>14906</td>\n",
       "      <td>747</td>\n",
       "      <td>3773.0</td>\n",
       "      <td>10386.0</td>\n",
       "      <td>4</td>\n",
       "      <td>204.788838</td>\n",
       "      <td>165435.0</td>\n",
       "      <td>1792.0</td>\n",
       "      <td>5.011405</td>\n",
       "      <td>84000004</td>\n",
       "      <td>USA</td>\n",
       "      <td>2272.859351</td>\n",
       "      <td>12.022005</td>\n",
       "    </tr>\n",
       "    <tr>\n",
       "      <th>4</th>\n",
       "      <td>Arkansas</td>\n",
       "      <td>5003</td>\n",
       "      <td>107</td>\n",
       "      <td>3852.0</td>\n",
       "      <td>1044.0</td>\n",
       "      <td>5</td>\n",
       "      <td>165.782801</td>\n",
       "      <td>96258.0</td>\n",
       "      <td>535.0</td>\n",
       "      <td>2.138717</td>\n",
       "      <td>84000005</td>\n",
       "      <td>USA</td>\n",
       "      <td>3189.670370</td>\n",
       "      <td>10.693584</td>\n",
       "    </tr>\n",
       "  </tbody>\n",
       "</table>\n",
       "</div>"
      ],
      "text/plain": [
       "   Province_State  Confirmed  Deaths  Recovered   Active  FIPS  Incident_Rate  \\\n",
       "0         Alabama      13052     522        NaN  12530.0     1     266.194321   \n",
       "1          Alaska        401      10      352.0     39.0     2      54.815493   \n",
       "2  American Samoa          0       0        NaN      0.0    60       0.000000   \n",
       "3         Arizona      14906     747     3773.0  10386.0     4     204.788838   \n",
       "4        Arkansas       5003     107     3852.0   1044.0     5     165.782801   \n",
       "\n",
       "   People_Tested  People_Hospitalized  Mortality_Rate       UID ISO3  \\\n",
       "0       164450.0               1493.0        3.999387  84000001  USA   \n",
       "1        37045.0                  NaN        2.493766  84000002  USA   \n",
       "2          124.0                  NaN             NaN        16  ASM   \n",
       "3       165435.0               1792.0        5.011405  84000004  USA   \n",
       "4        96258.0                535.0        2.138717  84000005  USA   \n",
       "\n",
       "   Testing_Rate  Hospitalization_Rate  \n",
       "0   3353.942386             11.438860  \n",
       "1   5063.940017                   NaN  \n",
       "2    222.857246                   NaN  \n",
       "3   2272.859351             12.022005  \n",
       "4   3189.670370             10.693584  "
      ]
     },
     "execution_count": 8,
     "metadata": {},
     "output_type": "execute_result"
    }
   ],
   "source": [
    "df.head()"
   ]
  },
  {
   "cell_type": "code",
   "execution_count": 9,
   "metadata": {},
   "outputs": [
    {
     "data": {
      "text/plain": [
       "<matplotlib.axes._subplots.AxesSubplot at 0x7c04137ef0>"
      ]
     },
     "execution_count": 9,
     "metadata": {},
     "output_type": "execute_result"
    },
    {
     "data": {
      "image/png": "[encoded data removed]",
      "text/plain": [
       "<Figure size 720x720 with 2 Axes>"
      ]
     },
     "metadata": {
      "needs_background": "light"
     },
     "output_type": "display_data"
    }
   ],
   "source": [
    "plt.figure(figsize = (10, 10))\n",
    "sns.heatmap(df.corr(),annot=True,cmap=\"PiYG\",lw=1)"
   ]
  },
  {
   "cell_type": "markdown",
   "metadata": {},
   "source": [
    "# here we get to know that Death is having -ve correlation with FIPS"
   ]
  },
  {
   "cell_type": "markdown",
   "metadata": {},
   "source": [
    "# Death is having Strong +ve correalation with confirmed cases, recovered cases, active cases & people_hospitalized"
   ]
  },
  {
   "cell_type": "code",
   "execution_count": 10,
   "metadata": {},
   "outputs": [
    {
     "data": {
      "text/plain": [
       "Province_State           0\n",
       "Confirmed                0\n",
       "Deaths                   0\n",
       "Recovered               16\n",
       "Active                   0\n",
       "FIPS                     0\n",
       "Incident_Rate            2\n",
       "People_Tested            2\n",
       "People_Hospitalized     25\n",
       "Mortality_Rate           1\n",
       "UID                      0\n",
       "ISO3                     0\n",
       "Testing_Rate             2\n",
       "Hospitalization_Rate    25\n",
       "dtype: int64"
      ]
     },
     "execution_count": 10,
     "metadata": {},
     "output_type": "execute_result"
    }
   ],
   "source": [
    "df.isnull().sum()\n"
   ]
  },
  {
   "cell_type": "code",
   "execution_count": 11,
   "metadata": {},
   "outputs": [],
   "source": [
    "from sklearn.impute import SimpleImputer\n",
    "imp=SimpleImputer(missing_values=np.NaN,strategy='mean')\n",
    "df['Recovered']=imp.fit_transform(df[['Recovered']])"
   ]
  },
  {
   "cell_type": "code",
   "execution_count": 12,
   "metadata": {},
   "outputs": [],
   "source": [
    "df['Incident_Rate']=imp.fit_transform(df[['Incident_Rate']])"
   ]
  },
  {
   "cell_type": "code",
   "execution_count": 13,
   "metadata": {},
   "outputs": [],
   "source": [
    "df['People_Tested']=imp.fit_transform(df[['People_Tested']])"
   ]
  },
  {
   "cell_type": "code",
   "execution_count": 14,
   "metadata": {},
   "outputs": [],
   "source": [
    "df['People_Hospitalized']=imp.fit_transform(df[['People_Hospitalized']])"
   ]
  },
  {
   "cell_type": "code",
   "execution_count": 15,
   "metadata": {},
   "outputs": [],
   "source": [
    "df['Mortality_Rate']=imp.fit_transform(df[['Mortality_Rate']])"
   ]
  },
  {
   "cell_type": "code",
   "execution_count": 16,
   "metadata": {},
   "outputs": [],
   "source": [
    "df['Hospitalization_Rate']=imp.fit_transform(df[['Hospitalization_Rate']])"
   ]
  },
  {
   "cell_type": "code",
   "execution_count": 17,
   "metadata": {},
   "outputs": [],
   "source": [
    "df['Testing_Rate']=imp.fit_transform(df[['Testing_Rate']])"
   ]
  },
  {
   "cell_type": "code",
   "execution_count": 18,
   "metadata": {},
   "outputs": [
    {
     "data": {
      "text/plain": [
       "Province_State          0\n",
       "Confirmed               0\n",
       "Deaths                  0\n",
       "Recovered               0\n",
       "Active                  0\n",
       "FIPS                    0\n",
       "Incident_Rate           0\n",
       "People_Tested           0\n",
       "People_Hospitalized     0\n",
       "Mortality_Rate          0\n",
       "UID                     0\n",
       "ISO3                    0\n",
       "Testing_Rate            0\n",
       "Hospitalization_Rate    0\n",
       "dtype: int64"
      ]
     },
     "execution_count": 18,
     "metadata": {},
     "output_type": "execute_result"
    }
   ],
   "source": [
    "df.isnull().sum()"
   ]
  },
  {
   "cell_type": "markdown",
   "metadata": {},
   "source": [
    "# -->Therefore we have removed Null values from each column"
   ]
  },
  {
   "cell_type": "code",
   "execution_count": 19,
   "metadata": {},
   "outputs": [],
   "source": [
    "df.drop(['ISO3','UID'],axis=1,inplace=True)"
   ]
  },
  {
   "cell_type": "markdown",
   "metadata": {},
   "source": [
    "# We have removed 2 more columns as they are of no use to our analysis"
   ]
  },
  {
   "cell_type": "code",
   "execution_count": 20,
   "metadata": {},
   "outputs": [
    {
     "data": {
      "text/html": [
       "<div>\n",
       "<style scoped>\n",
       "    .dataframe tbody tr th:only-of-type {\n",
       "        vertical-align: middle;\n",
       "    }\n",
       "\n",
       "    .dataframe tbody tr th {\n",
       "        vertical-align: top;\n",
       "    }\n",
       "\n",
       "    .dataframe thead th {\n",
       "        text-align: right;\n",
       "    }\n",
       "</style>\n",
       "<table border=\"1\" class=\"dataframe\">\n",
       "  <thead>\n",
       "    <tr style=\"text-align: right;\">\n",
       "      <th></th>\n",
       "      <th>Province_State</th>\n",
       "      <th>Confirmed</th>\n",
       "      <th>Deaths</th>\n",
       "      <th>Recovered</th>\n",
       "      <th>Active</th>\n",
       "      <th>FIPS</th>\n",
       "      <th>Incident_Rate</th>\n",
       "      <th>People_Tested</th>\n",
       "      <th>People_Hospitalized</th>\n",
       "      <th>Mortality_Rate</th>\n",
       "      <th>Testing_Rate</th>\n",
       "      <th>Hospitalization_Rate</th>\n",
       "    </tr>\n",
       "  </thead>\n",
       "  <tbody>\n",
       "    <tr>\n",
       "      <th>0</th>\n",
       "      <td>Alabama</td>\n",
       "      <td>13052</td>\n",
       "      <td>522</td>\n",
       "      <td>7007.428571</td>\n",
       "      <td>12530.0</td>\n",
       "      <td>1</td>\n",
       "      <td>266.194321</td>\n",
       "      <td>164450.0</td>\n",
       "      <td>1493.000000</td>\n",
       "      <td>3.999387</td>\n",
       "      <td>3353.942386</td>\n",
       "      <td>11.438860</td>\n",
       "    </tr>\n",
       "    <tr>\n",
       "      <th>1</th>\n",
       "      <td>Alaska</td>\n",
       "      <td>401</td>\n",
       "      <td>10</td>\n",
       "      <td>352.000000</td>\n",
       "      <td>39.0</td>\n",
       "      <td>2</td>\n",
       "      <td>54.815493</td>\n",
       "      <td>37045.0</td>\n",
       "      <td>4897.454545</td>\n",
       "      <td>2.493766</td>\n",
       "      <td>5063.940017</td>\n",
       "      <td>14.342541</td>\n",
       "    </tr>\n",
       "    <tr>\n",
       "      <th>2</th>\n",
       "      <td>American Samoa</td>\n",
       "      <td>0</td>\n",
       "      <td>0</td>\n",
       "      <td>7007.428571</td>\n",
       "      <td>0.0</td>\n",
       "      <td>60</td>\n",
       "      <td>0.000000</td>\n",
       "      <td>124.0</td>\n",
       "      <td>4897.454545</td>\n",
       "      <td>4.458248</td>\n",
       "      <td>222.857246</td>\n",
       "      <td>14.342541</td>\n",
       "    </tr>\n",
       "    <tr>\n",
       "      <th>3</th>\n",
       "      <td>Arizona</td>\n",
       "      <td>14906</td>\n",
       "      <td>747</td>\n",
       "      <td>3773.000000</td>\n",
       "      <td>10386.0</td>\n",
       "      <td>4</td>\n",
       "      <td>204.788838</td>\n",
       "      <td>165435.0</td>\n",
       "      <td>1792.000000</td>\n",
       "      <td>5.011405</td>\n",
       "      <td>2272.859351</td>\n",
       "      <td>12.022005</td>\n",
       "    </tr>\n",
       "    <tr>\n",
       "      <th>4</th>\n",
       "      <td>Arkansas</td>\n",
       "      <td>5003</td>\n",
       "      <td>107</td>\n",
       "      <td>3852.000000</td>\n",
       "      <td>1044.0</td>\n",
       "      <td>5</td>\n",
       "      <td>165.782801</td>\n",
       "      <td>96258.0</td>\n",
       "      <td>535.000000</td>\n",
       "      <td>2.138717</td>\n",
       "      <td>3189.670370</td>\n",
       "      <td>10.693584</td>\n",
       "    </tr>\n",
       "  </tbody>\n",
       "</table>\n",
       "</div>"
      ],
      "text/plain": [
       "   Province_State  Confirmed  Deaths    Recovered   Active  FIPS  \\\n",
       "0         Alabama      13052     522  7007.428571  12530.0     1   \n",
       "1          Alaska        401      10   352.000000     39.0     2   \n",
       "2  American Samoa          0       0  7007.428571      0.0    60   \n",
       "3         Arizona      14906     747  3773.000000  10386.0     4   \n",
       "4        Arkansas       5003     107  3852.000000   1044.0     5   \n",
       "\n",
       "   Incident_Rate  People_Tested  People_Hospitalized  Mortality_Rate  \\\n",
       "0     266.194321       164450.0          1493.000000        3.999387   \n",
       "1      54.815493        37045.0          4897.454545        2.493766   \n",
       "2       0.000000          124.0          4897.454545        4.458248   \n",
       "3     204.788838       165435.0          1792.000000        5.011405   \n",
       "4     165.782801        96258.0           535.000000        2.138717   \n",
       "\n",
       "   Testing_Rate  Hospitalization_Rate  \n",
       "0   3353.942386             11.438860  \n",
       "1   5063.940017             14.342541  \n",
       "2    222.857246             14.342541  \n",
       "3   2272.859351             12.022005  \n",
       "4   3189.670370             10.693584  "
      ]
     },
     "execution_count": 20,
     "metadata": {},
     "output_type": "execute_result"
    }
   ],
   "source": [
    "df.head()"
   ]
  },
  {
   "cell_type": "code",
   "execution_count": 21,
   "metadata": {},
   "outputs": [],
   "source": [
    "from sklearn.preprocessing import LabelEncoder\n",
    "le=LabelEncoder()\n",
    "df['Province_State'] = le.fit_transform(df['Province_State'])"
   ]
  },
  {
   "cell_type": "code",
   "execution_count": 22,
   "metadata": {},
   "outputs": [
    {
     "data": {
      "text/html": [
       "<div>\n",
       "<style scoped>\n",
       "    .dataframe tbody tr th:only-of-type {\n",
       "        vertical-align: middle;\n",
       "    }\n",
       "\n",
       "    .dataframe tbody tr th {\n",
       "        vertical-align: top;\n",
       "    }\n",
       "\n",
       "    .dataframe thead th {\n",
       "        text-align: right;\n",
       "    }\n",
       "</style>\n",
       "<table border=\"1\" class=\"dataframe\">\n",
       "  <thead>\n",
       "    <tr style=\"text-align: right;\">\n",
       "      <th></th>\n",
       "      <th>Province_State</th>\n",
       "      <th>Confirmed</th>\n",
       "      <th>Deaths</th>\n",
       "      <th>Recovered</th>\n",
       "      <th>Active</th>\n",
       "      <th>FIPS</th>\n",
       "      <th>Incident_Rate</th>\n",
       "      <th>People_Tested</th>\n",
       "      <th>People_Hospitalized</th>\n",
       "      <th>Mortality_Rate</th>\n",
       "      <th>Testing_Rate</th>\n",
       "      <th>Hospitalization_Rate</th>\n",
       "    </tr>\n",
       "  </thead>\n",
       "  <tbody>\n",
       "    <tr>\n",
       "      <th>0</th>\n",
       "      <td>0</td>\n",
       "      <td>13052</td>\n",
       "      <td>522</td>\n",
       "      <td>7007.428571</td>\n",
       "      <td>12530.0</td>\n",
       "      <td>1</td>\n",
       "      <td>266.194321</td>\n",
       "      <td>164450.0</td>\n",
       "      <td>1493.000000</td>\n",
       "      <td>3.999387</td>\n",
       "      <td>3353.942386</td>\n",
       "      <td>11.438860</td>\n",
       "    </tr>\n",
       "    <tr>\n",
       "      <th>1</th>\n",
       "      <td>1</td>\n",
       "      <td>401</td>\n",
       "      <td>10</td>\n",
       "      <td>352.000000</td>\n",
       "      <td>39.0</td>\n",
       "      <td>2</td>\n",
       "      <td>54.815493</td>\n",
       "      <td>37045.0</td>\n",
       "      <td>4897.454545</td>\n",
       "      <td>2.493766</td>\n",
       "      <td>5063.940017</td>\n",
       "      <td>14.342541</td>\n",
       "    </tr>\n",
       "    <tr>\n",
       "      <th>2</th>\n",
       "      <td>2</td>\n",
       "      <td>0</td>\n",
       "      <td>0</td>\n",
       "      <td>7007.428571</td>\n",
       "      <td>0.0</td>\n",
       "      <td>60</td>\n",
       "      <td>0.000000</td>\n",
       "      <td>124.0</td>\n",
       "      <td>4897.454545</td>\n",
       "      <td>4.458248</td>\n",
       "      <td>222.857246</td>\n",
       "      <td>14.342541</td>\n",
       "    </tr>\n",
       "    <tr>\n",
       "      <th>3</th>\n",
       "      <td>3</td>\n",
       "      <td>14906</td>\n",
       "      <td>747</td>\n",
       "      <td>3773.000000</td>\n",
       "      <td>10386.0</td>\n",
       "      <td>4</td>\n",
       "      <td>204.788838</td>\n",
       "      <td>165435.0</td>\n",
       "      <td>1792.000000</td>\n",
       "      <td>5.011405</td>\n",
       "      <td>2272.859351</td>\n",
       "      <td>12.022005</td>\n",
       "    </tr>\n",
       "    <tr>\n",
       "      <th>4</th>\n",
       "      <td>4</td>\n",
       "      <td>5003</td>\n",
       "      <td>107</td>\n",
       "      <td>3852.000000</td>\n",
       "      <td>1044.0</td>\n",
       "      <td>5</td>\n",
       "      <td>165.782801</td>\n",
       "      <td>96258.0</td>\n",
       "      <td>535.000000</td>\n",
       "      <td>2.138717</td>\n",
       "      <td>3189.670370</td>\n",
       "      <td>10.693584</td>\n",
       "    </tr>\n",
       "  </tbody>\n",
       "</table>\n",
       "</div>"
      ],
      "text/plain": [
       "   Province_State  Confirmed  Deaths    Recovered   Active  FIPS  \\\n",
       "0               0      13052     522  7007.428571  12530.0     1   \n",
       "1               1        401      10   352.000000     39.0     2   \n",
       "2               2          0       0  7007.428571      0.0    60   \n",
       "3               3      14906     747  3773.000000  10386.0     4   \n",
       "4               4       5003     107  3852.000000   1044.0     5   \n",
       "\n",
       "   Incident_Rate  People_Tested  People_Hospitalized  Mortality_Rate  \\\n",
       "0     266.194321       164450.0          1493.000000        3.999387   \n",
       "1      54.815493        37045.0          4897.454545        2.493766   \n",
       "2       0.000000          124.0          4897.454545        4.458248   \n",
       "3     204.788838       165435.0          1792.000000        5.011405   \n",
       "4     165.782801        96258.0           535.000000        2.138717   \n",
       "\n",
       "   Testing_Rate  Hospitalization_Rate  \n",
       "0   3353.942386             11.438860  \n",
       "1   5063.940017             14.342541  \n",
       "2    222.857246             14.342541  \n",
       "3   2272.859351             12.022005  \n",
       "4   3189.670370             10.693584  "
      ]
     },
     "execution_count": 22,
     "metadata": {},
     "output_type": "execute_result"
    }
   ],
   "source": [
    "df.head()"
   ]
  },
  {
   "cell_type": "markdown",
   "metadata": {},
   "source": [
    "# We have converted the Categorical data into numerical data for further processing."
   ]
  },
  {
   "cell_type": "code",
   "execution_count": 23,
   "metadata": {},
   "outputs": [
    {
     "data": {
      "text/plain": [
       "Province_State          0.000000\n",
       "Confirmed               4.708614\n",
       "Deaths                  5.489201\n",
       "Recovered               3.647693\n",
       "Active                  4.180953\n",
       "FIPS                    5.269070\n",
       "Incident_Rate           1.988351\n",
       "People_Tested           2.829700\n",
       "People_Hospitalized     6.869437\n",
       "Mortality_Rate          0.496115\n",
       "Testing_Rate            1.313407\n",
       "Hospitalization_Rate    0.867341\n",
       "dtype: float64"
      ]
     },
     "execution_count": 23,
     "metadata": {},
     "output_type": "execute_result"
    }
   ],
   "source": [
    "df.skew()"
   ]
  },
  {
   "cell_type": "code",
   "execution_count": 24,
   "metadata": {},
   "outputs": [],
   "source": [
    "from scipy.stats import boxcox\n",
    "df['Confirmed'].replace(0,df['Confirmed'].mean(axis=0),inplace=True)\n",
    "df['Confirmed'],lambd1=boxcox(df['Confirmed'])"
   ]
  },
  {
   "cell_type": "code",
   "execution_count": 25,
   "metadata": {},
   "outputs": [],
   "source": [
    "for column in df.columns:\n",
    "    df[column].replace(0,df[column].mean(axis=0),inplace=True)"
   ]
  },
  {
   "cell_type": "code",
   "execution_count": 26,
   "metadata": {},
   "outputs": [],
   "source": [
    "df['Recovered'],lambd2=boxcox(df['Recovered'])"
   ]
  },
  {
   "cell_type": "code",
   "execution_count": 27,
   "metadata": {},
   "outputs": [],
   "source": [
    "df['Active'],lambd3=boxcox(df['Active'])"
   ]
  },
  {
   "cell_type": "code",
   "execution_count": 28,
   "metadata": {},
   "outputs": [],
   "source": [
    "df['FIPS'],lambd4=boxcox(df['FIPS'])"
   ]
  },
  {
   "cell_type": "code",
   "execution_count": 29,
   "metadata": {},
   "outputs": [],
   "source": [
    "df['Incident_Rate'],lambd5=boxcox(df['Incident_Rate'])"
   ]
  },
  {
   "cell_type": "code",
   "execution_count": 30,
   "metadata": {},
   "outputs": [],
   "source": [
    "df['People_Tested'],lambd6=boxcox(df['People_Tested'])"
   ]
  },
  {
   "cell_type": "code",
   "execution_count": 31,
   "metadata": {},
   "outputs": [],
   "source": [
    "df['People_Hospitalized'],lambd7=boxcox(df['People_Hospitalized'])"
   ]
  },
  {
   "cell_type": "code",
   "execution_count": 32,
   "metadata": {},
   "outputs": [],
   "source": [
    "df['Testing_Rate'],lambd8=boxcox(df['Testing_Rate'])"
   ]
  },
  {
   "cell_type": "code",
   "execution_count": 33,
   "metadata": {},
   "outputs": [
    {
     "data": {
      "text/plain": [
       "Province_State          0.001628\n",
       "Confirmed              -0.028434\n",
       "Deaths                  5.495889\n",
       "Recovered               0.013146\n",
       "Active                 -0.078750\n",
       "FIPS                   -0.450513\n",
       "Incident_Rate          -0.001589\n",
       "People_Tested           0.019126\n",
       "People_Hospitalized     0.102885\n",
       "Mortality_Rate          0.636103\n",
       "Testing_Rate            0.225093\n",
       "Hospitalization_Rate    0.867341\n",
       "dtype: float64"
      ]
     },
     "execution_count": 33,
     "metadata": {},
     "output_type": "execute_result"
    }
   ],
   "source": [
    "df.skew()"
   ]
  },
  {
   "cell_type": "markdown",
   "metadata": {},
   "source": [
    "# Therefore we have removed skewness from our dataset."
   ]
  },
  {
   "cell_type": "code",
   "execution_count": 34,
   "metadata": {},
   "outputs": [
    {
     "data": {
      "text/plain": [
       "array([[3.01281587e-02, 1.52104997e-01, 2.83454066e-01, 4.60108452e-01,\n",
       "        4.21164531e-01, 3.69955001e+00, 4.11101540e-02, 1.68186061e-01,\n",
       "        4.68591810e-01, 2.66124351e-01, 2.00461084e-01, 7.74497410e-01],\n",
       "       [1.71624792e+00, 1.39091320e+00, 4.10251499e-01, 1.40966727e+00,\n",
       "        1.57018693e+00, 2.68761196e+00, 1.77834974e+00, 8.23525649e-01,\n",
       "        4.84501950e-01, 1.01404697e+00, 6.85006327e-01, 4.73806709e-16],\n",
       "       [1.65493447e+00, 5.95350924e-01, 1.37576004e-02, 4.60108452e-01,\n",
       "        6.72967370e-01, 5.99719472e-01, 4.05520294e-01, 2.50237453e+00,\n",
       "        4.84501950e-01, 3.81836194e-02, 2.66616990e+00, 4.73806709e-16],\n",
       "       [1.59362103e+00, 2.30230090e-01, 2.27732538e-01, 2.95741187e-02,\n",
       "        3.25720368e-01, 1.81367226e+00, 3.33495364e-01, 1.72941988e-01,\n",
       "        3.35563767e-01, 2.36598919e-01, 8.51700617e-01, 6.18955558e-01],\n",
       "       [1.53230758e+00, 3.64064860e-01, 3.86229329e-01, 1.42015482e-02,\n",
       "        6.48648195e-01, 1.55851580e+00, 5.67887254e-01, 2.30952818e-01,\n",
       "        1.13741727e+00, 1.19041868e+00, 2.93653550e-01, 9.73284504e-01],\n",
       "       [1.47099413e+00, 1.43784958e+00, 4.53308360e-01, 4.60108452e-01,\n",
       "        1.54469987e+00, 1.35879476e+00, 2.65750617e-01, 2.39737894e+00,\n",
       "        4.84501950e-01, 2.32825055e-01, 1.22967698e-01, 4.73806709e-16],\n",
       "       [1.40968069e+00, 4.91893105e-01, 9.10290558e-02, 8.93208050e-02,\n",
       "        6.13782417e-01, 1.05891203e+00, 4.04487674e-01, 2.98825621e-03,\n",
       "        2.97009950e-01, 5.77726133e-01, 8.40992092e-01, 8.01850794e-01],\n",
       "       [1.34836724e+00, 8.50104195e-01, 4.61233200e-01, 3.66571849e-01,\n",
       "        8.86941605e-01, 9.41302470e-01, 1.56366388e+00, 2.88308837e-01,\n",
       "        1.26127571e+00, 2.24018953e+00, 8.20914342e-01, 3.65736678e+00],\n",
       "       [1.28705380e+00, 1.08647872e-01, 3.35956128e-01, 7.36080461e-03,\n",
       "        1.28933850e-01, 8.38551353e-01, 1.26169460e+00, 7.08642577e-01,\n",
       "        4.84501950e-01, 3.73488177e-01, 4.89345875e-01, 4.73806709e-16],\n",
       "       [1.22574035e+00, 1.97455973e+00, 1.37576004e-02, 4.60108452e-01,\n",
       "        1.51983562e+00, 3.05465107e+00, 4.05520294e-01, 4.30872783e-01,\n",
       "        4.84501950e-01, 3.81836194e-02, 9.45723143e-02, 4.73806709e-16],\n",
       "       [1.16442690e+00, 1.52399022e-01, 3.11933958e-01, 8.54107100e-01,\n",
       "        6.81046498e-02, 7.47553841e-01, 1.53765125e+00, 7.75060403e-01,\n",
       "        4.84501950e-01, 4.24674613e-01, 9.96720279e-01, 4.73806709e-16],\n",
       "       [1.10311346e+00, 9.88918238e-01, 1.06348979e-01, 4.60108452e-01,\n",
       "        1.15333549e+00, 6.66066336e-01, 2.48604111e-01, 1.66689088e+00,\n",
       "        1.05392809e+00, 5.95046422e-02, 6.87412575e-02, 1.19424642e+00],\n",
       "       [1.04180001e+00, 8.63982565e-01, 7.53613606e-03, 4.60108452e-01,\n",
       "        1.04548257e+00, 5.92417986e-01, 3.43051949e-01, 9.66782589e-01,\n",
       "        8.29626636e-01, 1.34820053e-01, 4.16659720e-02, 9.37232349e-01],\n",
       "       [9.80486568e-01, 1.79088316e+00, 4.11985057e-01, 4.60108452e-01,\n",
       "        1.35088185e+00, 3.07104578e+00, 4.05520294e-01, 4.30872783e-01,\n",
       "        4.84501950e-01, 8.05978931e-01, 9.45723143e-02, 4.73806709e-16],\n",
       "       [9.19173122e-01, 1.68167826e+00, 4.11489755e-01, 1.82598183e+00,\n",
       "        1.67171510e+00, 6.62012378e-01, 1.19471084e+00, 1.69369315e+00,\n",
       "        4.84501950e-01, 6.39997774e-01, 3.87455846e-01, 4.73806709e-16],\n",
       "       [8.57859676e-01, 1.22970850e+00, 4.08517940e-01, 1.17548390e+00,\n",
       "        1.52445522e+00, 4.63816539e-01, 1.98130942e+00, 6.97362533e-01,\n",
       "        2.07217422e+00, 9.39488585e-01, 2.47662092e-01, 4.24051789e-01],\n",
       "       [7.96546230e-01, 6.88879621e-01, 3.93658866e-01, 5.84416428e-01,\n",
       "        7.58324655e-01, 4.07078725e-01, 7.52823464e-01, 8.01268879e-01,\n",
       "        1.63274791e+00, 7.26496229e-01, 9.27086115e-01, 1.53719712e+00],\n",
       "       [7.35232785e-01, 1.56236674e+00, 7.07893831e-01, 4.60108452e-01,\n",
       "        1.64883634e+00, 3.54482631e-01, 1.19294886e+00, 1.45867931e+00,\n",
       "        4.84501950e-01, 1.43810613e-02, 6.88877282e-01, 4.73806709e-16],\n",
       "       [6.73919339e-01, 6.54662028e-01, 4.88938924e-02, 4.60108452e-01,\n",
       "        8.49588223e-01, 3.05507623e-01, 5.10458213e-01, 3.09827552e-01,\n",
       "        3.87408950e-01, 9.10206596e-01, 4.58079609e-01, 1.73450161e-01],\n",
       "       [6.12605893e-01, 2.58159115e-01, 3.15401075e-01, 6.12087211e-01,\n",
       "        1.24428312e-01, 2.59723012e-01, 6.57259460e-01, 1.31513836e-01,\n",
       "        4.84501950e-01, 1.00299940e+00, 1.13420212e-01, 4.73806709e-16],\n",
       "       [5.51292448e-01, 8.83812268e-02, 3.62702461e-01, 1.27312177e+00,\n",
       "        1.87146650e-01, 2.16768714e-01, 6.24594168e-02, 4.33403966e-01,\n",
       "        9.22949313e-01, 1.07328505e+00, 7.41834195e-01, 1.44266559e+00],\n",
       "       [4.89979002e-01, 1.10426266e-01, 3.19611146e-01, 2.37085484e-01,\n",
       "        2.46077434e-02, 1.76340804e-01, 4.59614028e-01, 1.16289649e-01,\n",
       "        2.49542172e-01, 3.41663945e-02, 1.48615036e-01, 2.73896457e+00],\n",
       "       [4.28665556e-01, 7.81259527e-01, 2.33146412e-01, 1.74624899e+00,\n",
       "        9.58322680e-02, 1.38180565e-01, 1.14463578e+00, 6.40108447e-01,\n",
       "        4.84501950e-01, 1.41556864e+00, 1.18907061e+00, 4.73806709e-16],\n",
       "       [3.67352110e-01, 8.27350819e-01, 3.94649471e-01, 8.32538747e-01,\n",
       "        8.13140096e-01, 1.02066054e-01, 7.92106308e-01, 8.20207361e-01,\n",
       "        1.59674058e+00, 2.59265679e-01, 5.38814213e-01, 4.38304824e-01],\n",
       "       [3.06038665e-01, 9.07129294e-01, 1.13035562e-01, 1.96866665e-01,\n",
       "        1.03098865e+00, 6.78055405e-02, 1.05124920e+00, 3.90036730e-01,\n",
       "        8.67624301e-01, 2.38973524e-01, 8.50157232e-02, 8.33663462e-01],\n",
       "       [2.44725219e-01, 1.46487659e+00, 1.08952438e+00, 4.60108452e-01,\n",
       "        1.54804464e+00, 3.52323292e-02, 1.75428248e+00, 1.16586369e+00,\n",
       "        1.04977312e+00, 1.13404544e+00, 1.60537242e+00, 1.15828375e+00],\n",
       "       [1.83411773e-01, 1.06900679e+00, 8.40387242e-01, 1.82826913e+00,\n",
       "        6.63081229e-01, 4.20064269e-03, 7.36233565e-01, 1.04840295e+00,\n",
       "        4.84501950e-01, 2.48895048e+00, 3.45138489e-01, 4.73806709e-16],\n",
       "       [1.22098327e-01, 3.32806075e-01, 2.18074140e-01, 9.58750598e-01,\n",
       "        5.32157736e-02, 2.54176931e-02, 1.41444026e-01, 1.82070346e-01,\n",
       "        1.43468312e-01, 4.31663899e-02, 4.22810520e-01, 3.41641758e-01],\n",
       "       [6.07848816e-02, 1.01969775e-01, 2.71566807e-01, 5.38324670e-01,\n",
       "        1.51883312e-01, 5.37359353e-02, 4.22094479e-01, 6.88808453e-02,\n",
       "        2.91550289e-01, 1.13251924e-01, 1.79305738e-01, 4.11512872e-01],\n",
       "       [5.28564187e-04, 8.05990900e-02, 2.54231220e-01, 4.60108452e-01,\n",
       "        3.49474225e-01, 8.08546214e-02, 4.29505498e-01, 1.56184662e-01,\n",
       "        4.84501950e-01, 5.04992508e-01, 6.20024415e-01, 4.73806709e-16],\n",
       "       [6.18420099e-02, 1.33240155e+00, 4.08765591e-01, 1.30733816e+00,\n",
       "        1.68914159e+00, 1.06863379e-01, 1.99778167e+00, 9.41348939e-01,\n",
       "        2.16674081e+00, 5.90060599e-01, 5.33532262e-01, 1.98504088e-01],\n",
       "       [1.23155456e-01, 6.02206427e-02, 3.78552140e-01, 4.60108452e-01,\n",
       "        3.53910399e-01, 1.31842429e-01, 8.27011073e-01, 4.24980306e-01,\n",
       "        4.84501950e-01, 1.63646984e+00, 6.12431542e-03, 4.73806709e-16],\n",
       "       [1.84468901e-01, 1.63983232e-01, 3.19363495e-01, 1.43039778e+00,\n",
       "        1.11230113e-01, 1.55863837e-01, 1.57458987e-01, 2.68536972e-01,\n",
       "        4.84501950e-01, 2.82034329e-01, 4.27068753e-01, 4.73806709e-16],\n",
       "       [2.45782347e-01, 4.89280728e-01, 3.65674276e-01, 7.47041523e-01,\n",
       "        3.33226544e-01, 1.78992569e-01, 3.31917790e-02, 6.41842404e-01,\n",
       "        1.32891149e+00, 1.87268559e-01, 1.34160455e-02, 1.18448779e+00],\n",
       "       [3.07095793e-01, 1.90428653e+00, 2.24927512e+00, 1.64467396e+00,\n",
       "        1.78453376e+00, 2.01287382e-01, 2.07196484e+00, 1.25131101e+00,\n",
       "        4.84501950e-01, 1.28858053e+00, 1.11292206e+00, 4.73806709e-16],\n",
       "       [3.68409239e-01, 2.45910204e-01, 3.42642711e-01, 5.08285113e-01,\n",
       "        1.03806353e-01, 2.22801579e-01, 9.74462764e-02, 5.48052392e-02,\n",
       "        6.57630808e-01, 2.73908157e-02, 1.46666871e+00, 9.83743436e-01],\n",
       "       [4.29722684e-01, 2.70210508e+00, 6.67901278e+00, 2.79630848e+00,\n",
       "        2.41408537e+00, 2.43583651e-01, 2.15411646e+00, 2.51619906e+00,\n",
       "        3.69990814e+00, 1.76134115e+00, 1.86882123e+00, 1.92569806e+00],\n",
       "       [4.91036130e-01, 4.17453086e-01, 2.32933214e-01, 9.12030980e-01,\n",
       "        1.91243561e-01, 2.63677838e-01, 3.98274376e-01, 6.13103344e-01,\n",
       "        4.84501950e-01, 4.72935306e-01, 6.15376726e-01, 4.73806709e-16],\n",
       "       [5.52349576e-01, 7.67195334e-01, 4.00593100e-01, 7.34687914e-01,\n",
       "        7.65963958e-01, 2.83124598e-01, 5.06884135e-03, 5.50105282e-01,\n",
       "        1.83160997e+00, 1.09097591e+00, 1.88018636e+00, 2.01767463e+00],\n",
       "       [6.13663022e-01, 2.15843065e+00, 4.12232708e-01, 2.47256812e+00,\n",
       "        1.92401338e+00, 6.90638550e-01, 2.17048906e+00, 1.77925045e+00,\n",
       "        4.84501950e-01, 2.47815139e+00, 1.52593676e+00, 4.73806709e-16],\n",
       "       [6.74976467e-01, 6.58330024e-01, 2.83388399e-02, 4.60108452e-01,\n",
       "        8.54753743e-01, 3.01961025e-01, 1.03119599e-01, 6.51412254e-01,\n",
       "        5.38098899e-01, 7.52730517e-01, 7.21087750e-01, 8.84503670e-01],\n",
       "       [7.36289913e-01, 3.13694905e-01, 3.38680291e-01, 6.25222077e-02,\n",
       "        6.75704552e-01, 3.20221204e-01, 7.56178835e-01, 6.62100907e-02,\n",
       "        8.10902121e-01, 4.32077372e-01, 3.75384618e-02, 5.37945925e-01],\n",
       "       [7.97603359e-01, 4.97593831e-01, 3.77066233e-01, 6.88912649e-01,\n",
       "        3.59400518e-01, 3.37936522e-01, 1.23812573e+00, 1.89251253e-01,\n",
       "        9.54307092e-01, 3.70894789e-01, 7.55890904e-01, 1.24796548e+00],\n",
       "       [8.58916805e-01, 1.25660677e+00, 7.68568383e-01, 4.60108452e-01,\n",
       "        1.36752011e+00, 3.55135944e-01, 7.39145997e-01, 8.28402953e-01,\n",
       "        4.84501950e-01, 1.22530080e+00, 5.63605863e-01, 4.73806709e-16],\n",
       "       [9.20230250e-01, 6.28666824e-01, 3.81771607e-01, 4.60108452e-01,\n",
       "        2.79725096e-01, 7.17795151e-01, 1.14979669e+00, 1.86587226e+00,\n",
       "        4.84501950e-01, 8.62537401e-02, 2.89031883e+00, 4.73806709e-16],\n",
       "       [9.81543696e-01, 1.65525894e-01, 2.79491646e-01, 8.69763630e-01,\n",
       "        3.89823215e-01, 3.88092258e-01, 1.72703576e+00, 6.98096268e-02,\n",
       "        4.71956881e-01, 2.51835202e-01, 3.25097170e+00, 8.57923529e-01],\n",
       "       [1.04285714e+00, 4.71319223e-02, 3.11933958e-01, 2.53669713e-01,\n",
       "        2.00283763e-01, 4.03896980e-01, 4.87886497e-01, 1.52795183e-02,\n",
       "        4.92422284e-01, 4.92516268e-02, 6.29903886e-01, 3.72321841e-01],\n",
       "       [1.10417059e+00, 4.52431399e-01, 4.01336054e-01, 1.89830168e-01,\n",
       "        6.27421602e-01, 4.19281820e-01, 6.03587061e-01, 9.29828871e-01,\n",
       "        1.40556947e+00, 1.70577448e+00, 1.55050788e-01, 1.69915006e+00],\n",
       "       [1.16548403e+00, 3.58044140e-01, 3.37194384e-01, 9.23762925e-01,\n",
       "        8.59849036e-02, 4.34266705e-01, 2.68613501e-02, 8.40181608e-01,\n",
       "        4.58098687e-01, 1.42994743e+00, 7.42449583e-01, 1.63084052e+00],\n",
       "       [1.22679748e+00, 1.05035010e+00, 5.95773488e-02, 1.91049969e+00,\n",
       "        6.68408094e-01, 4.48870215e-01, 4.87835289e-01, 1.66521480e+00,\n",
       "        4.84501950e-01, 8.81962155e-01, 6.09519930e-01, 4.73806709e-16],\n",
       "       [1.28811092e+00, 1.41298725e-01, 3.90439400e-01, 9.00854661e-02,\n",
       "        2.15808506e-01, 4.63109706e-01, 1.54524505e-01, 2.39378470e-01,\n",
       "        1.03834534e+00, 1.67296574e+00, 9.39958120e-01, 1.64261741e+00],\n",
       "       [1.34942437e+00, 1.08907794e+00, 3.99354844e-01, 9.92298270e-01,\n",
       "        1.45148798e+00, 4.77001406e-01, 6.69074067e-01, 1.02846321e+00,\n",
       "        4.84501950e-01, 5.88764396e-01, 1.58794657e-01, 4.73806709e-16],\n",
       "       [1.41073782e+00, 1.89271224e+00, 4.11242104e-01, 2.06533771e+00,\n",
       "        2.08982177e+00, 7.68211582e-01, 1.60514786e+00, 2.06032739e+00,\n",
       "        4.84501950e-01, 2.06676139e+00, 1.55799364e+00, 4.73806709e-16],\n",
       "       [1.47205126e+00, 7.33153772e-01, 1.46502933e-01, 1.07242147e-01,\n",
       "        8.47468565e-01, 4.90560516e-01, 3.74692048e-01, 3.79302101e-01,\n",
       "        6.78809597e-01, 6.30097664e-01, 7.12172735e-01, 1.08542752e+00],\n",
       "       [1.53336471e+00, 3.76502167e-01, 1.55913680e-01, 4.60108452e-01,\n",
       "        6.11177577e-01, 5.16737112e-01, 1.15129827e-01, 6.62718585e-01,\n",
       "        4.84501950e-01, 4.62538835e-01, 7.06726641e-02, 4.73806709e-16],\n",
       "       [1.59467815e+00, 8.89355698e-01, 3.95640076e-01, 9.14832528e-01,\n",
       "        8.66846372e-01, 5.29380563e-01, 1.27112427e+00, 3.51651906e-01,\n",
       "        4.84501950e-01, 6.54700594e-02, 4.07455472e-01, 4.73806709e-16],\n",
       "       [1.65599160e+00, 1.68013837e-01, 2.93607767e-01, 5.43577638e-01,\n",
       "        3.43030741e-03, 5.41743485e-01, 2.02475771e-01, 1.83859937e-01,\n",
       "        1.94305873e-01, 4.71439421e-01, 4.74131761e-01, 4.71762787e-01],\n",
       "       [1.71730505e+00, 1.15680304e+00, 4.10003847e-01, 1.22006248e+00,\n",
       "        1.10784819e+00, 5.53837036e-01, 7.86746985e-01, 1.16593349e+00,\n",
       "        2.11446569e+00, 1.55851492e+00, 2.56243187e-01, 1.31757581e+00]])"
      ]
     },
     "execution_count": 34,
     "metadata": {},
     "output_type": "execute_result"
    }
   ],
   "source": [
    "from scipy.stats import zscore\n",
    "z=np.abs(zscore(df))\n",
    "z"
   ]
  },
  {
   "cell_type": "code",
   "execution_count": 35,
   "metadata": {},
   "outputs": [
    {
     "name": "stdout",
     "output_type": "stream",
     "text": [
      "(array([ 0,  7,  9, 13, 36, 36, 45], dtype=int64), array([ 5, 11,  5,  5,  2,  8, 10], dtype=int64))\n"
     ]
    }
   ],
   "source": [
    "threshold=3\n",
    "print(np.where(z>3))"
   ]
  },
  {
   "cell_type": "code",
   "execution_count": 36,
   "metadata": {},
   "outputs": [],
   "source": [
    "df_new=df[(z<3).all(axis=1)]"
   ]
  },
  {
   "cell_type": "code",
   "execution_count": 37,
   "metadata": {},
   "outputs": [
    {
     "name": "stdout",
     "output_type": "stream",
     "text": [
      "(58, 12)\n",
      "(52, 12)\n"
     ]
    }
   ],
   "source": [
    "print(df.shape)\n",
    "print(df_new.shape)"
   ]
  },
  {
   "cell_type": "markdown",
   "metadata": {},
   "source": [
    "# Therefore we have removed 6 rows as they were coming under OUTLIERS"
   ]
  },
  {
   "cell_type": "code",
   "execution_count": 38,
   "metadata": {},
   "outputs": [],
   "source": [
    "df=df_new"
   ]
  },
  {
   "cell_type": "markdown",
   "metadata": {},
   "source": [
    "# MODEL Training"
   ]
  },
  {
   "cell_type": "code",
   "execution_count": 39,
   "metadata": {},
   "outputs": [],
   "source": [
    "df_x=df.drop('Deaths',axis=1)"
   ]
  },
  {
   "cell_type": "code",
   "execution_count": 40,
   "metadata": {},
   "outputs": [],
   "source": [
    "y=df['Deaths']"
   ]
  },
  {
   "cell_type": "code",
   "execution_count": 42,
   "metadata": {},
   "outputs": [
    {
     "data": {
      "text/plain": [
       "(52, 11)"
      ]
     },
     "execution_count": 42,
     "metadata": {},
     "output_type": "execute_result"
    }
   ],
   "source": [
    "df_x.shape"
   ]
  },
  {
   "cell_type": "code",
   "execution_count": 43,
   "metadata": {},
   "outputs": [
    {
     "data": {
      "text/plain": [
       "(52,)"
      ]
     },
     "execution_count": 43,
     "metadata": {},
     "output_type": "execute_result"
    }
   ],
   "source": [
    "y.shape"
   ]
  },
  {
   "cell_type": "code",
   "execution_count": 44,
   "metadata": {},
   "outputs": [],
   "source": [
    "#Scaling the Input\n",
    "from sklearn.preprocessing import StandardScaler\n",
    "sc=StandardScaler()\n",
    "x=sc.fit_transform(df_x)\n",
    "x=pd.DataFrame(x,columns=df_x.columns)\n"
   ]
  },
  {
   "cell_type": "code",
   "execution_count": 45,
   "metadata": {},
   "outputs": [],
   "source": [
    "x_train,x_test,y_train,y_test=train_test_split(x,y,test_size=.30)"
   ]
  },
  {
   "cell_type": "code",
   "execution_count": 46,
   "metadata": {},
   "outputs": [
    {
     "name": "stdout",
     "output_type": "stream",
     "text": [
      "x_train: (36, 11)\n",
      "y_train: (36,)\n",
      "x_test: (16, 11)\n",
      "y_test: (16,)\n"
     ]
    }
   ],
   "source": [
    "print('x_train:',x_train.shape)\n",
    "print('y_train:',y_train.shape)\n",
    "print('x_test:',x_test.shape)\n",
    "print('y_test:',y_test.shape)"
   ]
  },
  {
   "cell_type": "code",
   "execution_count": 47,
   "metadata": {},
   "outputs": [],
   "source": [
    "from sklearn.svm import SVR\n",
    "from sklearn.neighbors import KNeighborsRegressor\n",
    "from sklearn.svm import SVR"
   ]
  },
  {
   "cell_type": "code",
   "execution_count": 48,
   "metadata": {},
   "outputs": [],
   "source": [
    "from sklearn.linear_model import Lasso,Ridge,ElasticNet\n",
    "from sklearn.tree import DecisionTreeRegressor"
   ]
  },
  {
   "cell_type": "markdown",
   "metadata": {},
   "source": [
    "# -->Selecting Best Algorithm"
   ]
  },
  {
   "cell_type": "code",
   "execution_count": 50,
   "metadata": {},
   "outputs": [
    {
     "name": "stdout",
     "output_type": "stream",
     "text": [
      "Score of LinearRegression(copy_X=True, fit_intercept=True, n_jobs=None,\n",
      "         normalize=False) is:\n",
      "Score: [-5.12467031  0.8125196   0.5426434  -5.33443483]\n",
      "Mean Score: -2.275985534495201\n",
      "standard deviation: 2.9560383141424174\n",
      "\n",
      "\n",
      "Score of SVR(C=1.0, cache_size=200, coef0=0.0, degree=3, epsilon=0.1,\n",
      "  gamma='auto_deprecated', kernel='rbf', max_iter=-1, shrinking=True,\n",
      "  tol=0.001, verbose=False) is:\n",
      "Score: [-0.2681855  -0.69865845 -0.13663137  0.00887622]\n",
      "Mean Score: -0.27364977595784845\n",
      "standard deviation: 0.26422396550483396\n",
      "\n",
      "\n"
     ]
    },
    {
     "name": "stderr",
     "output_type": "stream",
     "text": [
      "C:\\Users\\RK\\Anaconda3\\lib\\site-packages\\sklearn\\svm\\base.py:196: FutureWarning: The default value of gamma will change from 'auto' to 'scale' in version 0.22 to account better for unscaled features. Set gamma explicitly to 'auto' or 'scale' to avoid this warning.\n",
      "  \"avoid this warning.\", FutureWarning)\n",
      "C:\\Users\\RK\\Anaconda3\\lib\\site-packages\\sklearn\\svm\\base.py:196: FutureWarning: The default value of gamma will change from 'auto' to 'scale' in version 0.22 to account better for unscaled features. Set gamma explicitly to 'auto' or 'scale' to avoid this warning.\n",
      "  \"avoid this warning.\", FutureWarning)\n",
      "C:\\Users\\RK\\Anaconda3\\lib\\site-packages\\sklearn\\svm\\base.py:196: FutureWarning: The default value of gamma will change from 'auto' to 'scale' in version 0.22 to account better for unscaled features. Set gamma explicitly to 'auto' or 'scale' to avoid this warning.\n",
      "  \"avoid this warning.\", FutureWarning)\n",
      "C:\\Users\\RK\\Anaconda3\\lib\\site-packages\\sklearn\\svm\\base.py:196: FutureWarning: The default value of gamma will change from 'auto' to 'scale' in version 0.22 to account better for unscaled features. Set gamma explicitly to 'auto' or 'scale' to avoid this warning.\n",
      "  \"avoid this warning.\", FutureWarning)\n"
     ]
    },
    {
     "name": "stdout",
     "output_type": "stream",
     "text": [
      "Score of KNeighborsRegressor(algorithm='auto', leaf_size=30, metric='minkowski',\n",
      "          metric_params=None, n_jobs=None, n_neighbors=5, p=2,\n",
      "          weights='uniform') is:\n",
      "Score: [0.69370538 0.81940717 0.54135171 0.23076622]\n",
      "Mean Score: 0.571307619073925\n",
      "standard deviation: 0.21988656025313066\n",
      "\n",
      "\n",
      "Score of Ridge(alpha=1.0, copy_X=True, fit_intercept=True, max_iter=None,\n",
      "   normalize=False, random_state=None, solver='auto', tol=0.001) is:\n",
      "Score: [-3.67500173  0.79186849  0.52181559 -3.82255527]\n",
      "Mean Score: -1.5459682288455696\n",
      "standard deviation: 2.205495560783877\n",
      "\n",
      "\n",
      "Score of Lasso(alpha=1.0, copy_X=True, fit_intercept=True, max_iter=1000,\n",
      "   normalize=False, positive=False, precompute=False, random_state=None,\n",
      "   selection='cyclic', tol=0.0001, warm_start=False) is:\n",
      "Score: [-5.37983987  0.81298016  0.54192011 -5.2497088 ]\n",
      "Mean Score: -2.318662099982985\n",
      "standard deviation: 2.997997577037211\n",
      "\n",
      "\n",
      "Score of ElasticNet(alpha=1.0, copy_X=True, fit_intercept=True, l1_ratio=0.5,\n",
      "      max_iter=1000, normalize=False, positive=False, precompute=False,\n",
      "      random_state=None, selection='cyclic', tol=0.0001, warm_start=False) is:\n",
      "Score: [-0.05837039  0.75355403  0.47169787 -2.55259968]\n",
      "Mean Score: -0.34642954093174516\n",
      "standard deviation: 1.306661880814496\n",
      "\n",
      "\n",
      "Score of DecisionTreeRegressor(criterion='mse', max_depth=None, max_features=None,\n",
      "           max_leaf_nodes=None, min_impurity_decrease=0.0,\n",
      "           min_impurity_split=None, min_samples_leaf=1,\n",
      "           min_samples_split=2, min_weight_fraction_leaf=0.0,\n",
      "           presort=False, random_state=None, splitter='best') is:\n",
      "Score: [ 0.89339165  0.57166667  0.80001734 -0.91688994]\n",
      "Mean Score: 0.33704642967977316\n",
      "standard deviation: 0.7333595906807873\n",
      "\n",
      "\n"
     ]
    }
   ],
   "source": [
    "from sklearn.model_selection import cross_val_score\n",
    "model=[LinearRegression(),SVR(),KNeighborsRegressor(),Ridge(),Lasso(),ElasticNet(),DecisionTreeRegressor()]\n",
    "for m in model:\n",
    "    score=cross_val_score(m,x,y,cv=4,scoring='r2')\n",
    "    print(\"Score of\",m,\"is:\")\n",
    "    print('Score:',score)\n",
    "    print('Mean Score:',score.mean())\n",
    "    print('standard deviation:',score.std())\n",
    "    print('\\n')"
   ]
  },
  {
   "cell_type": "markdown",
   "metadata": {},
   "source": [
    "# Therefore we will use Kneighbor Regressor as it is having highest mean score"
   ]
  },
  {
   "cell_type": "markdown",
   "metadata": {},
   "source": [
    "# -->Now we will find the best parameters for our Algorithm"
   ]
  },
  {
   "cell_type": "code",
   "execution_count": 51,
   "metadata": {},
   "outputs": [
    {
     "name": "stderr",
     "output_type": "stream",
     "text": [
      "C:\\Users\\RK\\Anaconda3\\lib\\site-packages\\sklearn\\model_selection\\_split.py:2053: FutureWarning: You should specify a value for 'cv' instead of relying on the default value. The default value will change from 3 to 5 in version 0.22.\n",
      "  warnings.warn(CV_WARNING, FutureWarning)\n",
      "C:\\Users\\RK\\Anaconda3\\lib\\site-packages\\sklearn\\model_selection\\_search.py:841: DeprecationWarning: The default of the `iid` parameter will change from True to False in version 0.22 and will be removed in 0.24. This will change numeric results when test-set sizes are unequal.\n",
      "  DeprecationWarning)\n"
     ]
    },
    {
     "data": {
      "text/plain": [
       "{'algorithm': 'auto', 'n_neighbors': 9}"
      ]
     },
     "execution_count": 51,
     "metadata": {},
     "output_type": "execute_result"
    }
   ],
   "source": [
    "from sklearn.model_selection import GridSearchCV\n",
    "knn=KNeighborsRegressor()\n",
    "parameters={'n_neighbors':[1,3,5,7,9,11,13,15],'algorithm':['auto','ball_tree','kd_tree','brute']}\n",
    "clf=GridSearchCV(knn,parameters)\n",
    "clf.fit(x,y)\n",
    "clf.best_params_"
   ]
  },
  {
   "cell_type": "markdown",
   "metadata": {},
   "source": [
    "# Now we have got the best parameters for our model i.e, {'algorithm': 'auto', 'n_neighbors': 9}"
   ]
  },
  {
   "cell_type": "code",
   "execution_count": 52,
   "metadata": {},
   "outputs": [],
   "source": [
    "knn=KNeighborsRegressor(algorithm='auto', n_neighbors=9)"
   ]
  },
  {
   "cell_type": "code",
   "execution_count": 53,
   "metadata": {},
   "outputs": [
    {
     "data": {
      "text/plain": [
       "0.6153443850013705"
      ]
     },
     "execution_count": 53,
     "metadata": {},
     "output_type": "execute_result"
    }
   ],
   "source": [
    "knn.fit(x_train,y_train)\n",
    "knn.score(x_train,y_train)"
   ]
  },
  {
   "cell_type": "code",
   "execution_count": 54,
   "metadata": {},
   "outputs": [],
   "source": [
    "pred=knn.predict(x_test)"
   ]
  },
  {
   "cell_type": "code",
   "execution_count": 56,
   "metadata": {},
   "outputs": [
    {
     "name": "stdout",
     "output_type": "stream",
     "text": [
      "Mean Absolute error: 590.9722222222222\n",
      "Mean Square error: 769920.336419753\n",
      "R2 Score: 0.7005325339500201\n"
     ]
    }
   ],
   "source": [
    "print('Mean Absolute error:',mean_absolute_error(y_test,pred))\n",
    "print('Mean Square error:',mean_squared_error(y_test,pred))\n",
    "print('R2 Score:',r2_score(y_test,pred))"
   ]
  },
  {
   "cell_type": "markdown",
   "metadata": {},
   "source": [
    "# -->Therefore we find KNeighborRegressor is best suitable for our dataset.\n",
    "Now we will save the model."
   ]
  },
  {
   "cell_type": "code",
   "execution_count": null,
   "metadata": {},
   "outputs": [],
   "source": []
  }
 ],
 "metadata": {
  "kernelspec": {
   "display_name": "Python 3",
   "language": "python",
   "name": "python3"
  },
  "language_info": {
   "codemirror_mode": {
    "name": "ipython",
    "version": 3
   },
   "file_extension": ".py",
   "mimetype": "text/x-python",
   "name": "python",
   "nbconvert_exporter": "python",
   "pygments_lexer": "ipython3",
   "version": "3.7.1"
  }
 },
 "nbformat": 4,
 "nbformat_minor": 2
}
